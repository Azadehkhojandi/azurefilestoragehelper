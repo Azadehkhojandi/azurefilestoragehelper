{
 "cells": [
  {
   "cell_type": "code",
   "execution_count": 1,
   "metadata": {},
   "outputs": [],
   "source": [
    "# https://docs.microsoft.com/en-us/python/api/azure.storage.file.fileservice.fileservice?view=azure-python \n",
    "\n",
    "import azure.storage.file.models\n",
    "from azure.storage.file import FileService\n",
    "import os\n",
    "\n",
    "\n",
    "#Azure File Storage settings\n",
    "#update values of blobname, blobkey\n",
    "blobname=\"storage account name\"\n",
    "blobkey=\"key\"\n",
    "sharefolder='sharefoldername'\n"
   ]
  },
  {
   "cell_type": "code",
   "execution_count": 2,
   "metadata": {},
   "outputs": [
    {
     "data": {
      "text/plain": [
       "True"
      ]
     },
     "execution_count": 2,
     "metadata": {},
     "output_type": "execute_result"
    }
   ],
   "source": [
    "file_service = FileService(account_name=blobname, account_key=blobkey) \n",
    "\n",
    "file_service.create_share(sharefolder)\n"
   ]
  },
  {
   "cell_type": "code",
   "execution_count": 3,
   "metadata": {},
   "outputs": [],
   "source": [
    "\n",
    "def Upload(path, sharefolder,overwrite=False):\n",
    "     for root, dirs, files in os.walk(path):\n",
    "            for file in files:\n",
    "                sections=(root.split('/'))\n",
    "                parent=sections[-1]\n",
    "                print (parent)\n",
    "                file_service.create_directory(sharefolder, parent)\n",
    "                if( overwrite or not file_service.exists(sharefolder, directory_name=parent, file_name=file)):\n",
    "                    print(\"uploading root: %s parent:%s file:%s\" %(root,parent,file))\n",
    "                    file_service.create_file_from_path(share_name=sharefolder,\n",
    "                                                       directory_name=parent, \n",
    "                                                       file_name=file, \n",
    "                                                       local_file_path=os.path.join(root,file))"
   ]
  },
  {
   "cell_type": "code",
   "execution_count": 4,
   "metadata": {},
   "outputs": [],
   "source": [
    "def download(share_name,directory_name,downloadpath,overwrite=False):\n",
    "    if not os.path.exists(downloadpath):\n",
    "        os.makedirs(downloadpath)\n",
    "    generator = file_service.list_directories_and_files(share_name,directory_name)\n",
    "    for file_or_dir in generator:\n",
    "        file_path=os.path.join(downloadpath,file_or_dir.name)\n",
    "        if(not os.path.exists(file_path) or overwrite ):\n",
    "            print(\"copy to %s\" %file_path)\n",
    "            file_service.get_file_to_path(share_name, directory_name, file_name= file_or_dir.name, file_path=file_path, open_mode='wb')\n",
    "        \n"
   ]
  },
  {
   "cell_type": "code",
   "execution_count": 5,
   "metadata": {},
   "outputs": [
    {
     "name": "stdout",
     "output_type": "stream",
     "text": [
      "train1\n",
      "uploading root: ./logs/train1 parent:train1 file:dummytext1.txt\n",
      "train1\n",
      "uploading root: ./logs/train1 parent:train1 file:dummytext2.txt\n",
      "train1\n",
      "uploading root: ./logs/train1 parent:train1 file:dummytext3.txt\n"
     ]
    }
   ],
   "source": [
    "#how it works\n",
    "#It uploasds files/dirs under the provided path to azure storage/sharefolder\n",
    "Upload('./logs/train1',sharefolder)\n"
   ]
  },
  {
   "cell_type": "code",
   "execution_count": 6,
   "metadata": {},
   "outputs": [
    {
     "name": "stdout",
     "output_type": "stream",
     "text": [
      "copy to ./downloaded logs/train1\\dummytext1.txt\n",
      "copy to ./downloaded logs/train1\\dummytext2.txt\n",
      "copy to ./downloaded logs/train1\\dummytext3.txt\n"
     ]
    }
   ],
   "source": [
    "#It download files/dirs under provided folder from azure storage/sharefolder to provided local path\n",
    "download(sharefolder,'train1','./downloaded logs/train1')"
   ]
  },
  {
   "cell_type": "code",
   "execution_count": null,
   "metadata": {},
   "outputs": [],
   "source": []
  }
 ],
 "metadata": {
  "kernelspec": {
   "display_name": "Python 3",
   "language": "python",
   "name": "python3"
  },
  "language_info": {
   "codemirror_mode": {
    "name": "ipython",
    "version": 3
   },
   "file_extension": ".py",
   "mimetype": "text/x-python",
   "name": "python",
   "nbconvert_exporter": "python",
   "pygments_lexer": "ipython3",
   "version": "3.5.4"
  }
 },
 "nbformat": 4,
 "nbformat_minor": 2
}
