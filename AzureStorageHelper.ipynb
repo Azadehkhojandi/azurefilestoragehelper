{
 "cells": [
  {
   "cell_type": "code",
   "execution_count": 1,
   "metadata": {},
   "outputs": [
    {
     "name": "stdout",
     "output_type": "stream",
     "text": [
      "Requirement already satisfied: azure-storage in c:\\users\\azadeh khojandi\\appdata\\local\\conda\\conda\\envs\\py35\\lib\\site-packages (0.36.0)\n",
      "Requirement already satisfied: azure-common>=1.1.5 in c:\\users\\azadeh khojandi\\appdata\\local\\conda\\conda\\envs\\py35\\lib\\site-packages (from azure-storage) (1.1.11)\n",
      "Requirement already satisfied: python-dateutil in c:\\users\\azadeh khojandi\\appdata\\local\\conda\\conda\\envs\\py35\\lib\\site-packages (from azure-storage) (2.6.1)\n",
      "Requirement already satisfied: cryptography in c:\\users\\azadeh khojandi\\appdata\\local\\conda\\conda\\envs\\py35\\lib\\site-packages (from azure-storage) (2.1.4)\n",
      "Requirement already satisfied: azure-nspkg>=2.0.0 in c:\\users\\azadeh khojandi\\appdata\\local\\conda\\conda\\envs\\py35\\lib\\site-packages (from azure-storage) (2.0.0)\n",
      "Requirement already satisfied: requests in c:\\users\\azadeh khojandi\\appdata\\local\\conda\\conda\\envs\\py35\\lib\\site-packages (from azure-storage) (2.18.4)\n",
      "Requirement already satisfied: six>=1.5 in c:\\users\\azadeh khojandi\\appdata\\local\\conda\\conda\\envs\\py35\\lib\\site-packages (from python-dateutil->azure-storage) (1.11.0)\n",
      "Requirement already satisfied: idna>=2.1 in c:\\users\\azadeh khojandi\\appdata\\local\\conda\\conda\\envs\\py35\\lib\\site-packages (from cryptography->azure-storage) (2.6)\n",
      "Requirement already satisfied: asn1crypto>=0.21.0 in c:\\users\\azadeh khojandi\\appdata\\local\\conda\\conda\\envs\\py35\\lib\\site-packages (from cryptography->azure-storage) (0.24.0)\n",
      "Requirement already satisfied: cffi>=1.7 in c:\\users\\azadeh khojandi\\appdata\\local\\conda\\conda\\envs\\py35\\lib\\site-packages (from cryptography->azure-storage) (1.11.5)\n",
      "Requirement already satisfied: chardet<3.1.0,>=3.0.2 in c:\\users\\azadeh khojandi\\appdata\\local\\conda\\conda\\envs\\py35\\lib\\site-packages (from requests->azure-storage) (3.0.4)\n",
      "Requirement already satisfied: urllib3<1.23,>=1.21.1 in c:\\users\\azadeh khojandi\\appdata\\local\\conda\\conda\\envs\\py35\\lib\\site-packages (from requests->azure-storage) (1.22)\n",
      "Requirement already satisfied: certifi>=2017.4.17 in c:\\users\\azadeh khojandi\\appdata\\local\\conda\\conda\\envs\\py35\\lib\\site-packages (from requests->azure-storage) (2018.4.16)\n",
      "Requirement already satisfied: pycparser in c:\\users\\azadeh khojandi\\appdata\\local\\conda\\conda\\envs\\py35\\lib\\site-packages (from cffi>=1.7->cryptography->azure-storage) (2.18)\n"
     ]
    }
   ],
   "source": [
    "import sys\n",
    "\n",
    "! \"{sys.executable}\" -m pip install azure-storage\n"
   ]
  },
  {
   "cell_type": "code",
   "execution_count": 2,
   "metadata": {},
   "outputs": [],
   "source": [
    "# https://docs.microsoft.com/en-us/python/api/azure.storage.file.fileservice.fileservice?view=azure-python \n",
    "import azure.storage.file.models\n",
    "from azure.storage.file import FileService\n",
    "import os\n",
    "\n",
    "\n",
    "#Azure File Storage settings\n",
    "#update values of blobname, blobkey\n",
    "blobname=\"Azure File Storage blob name\"\n",
    "blobkey=\"Azure File Storage key\"\n",
    "sharefolder='sharefoldername'"
   ]
  },
  {
   "cell_type": "code",
   "execution_count": 3,
   "metadata": {},
   "outputs": [],
   "source": [
    "file_service = FileService(account_name=blobname, account_key=blobkey) "
   ]
  },
  {
   "cell_type": "code",
   "execution_count": 4,
   "metadata": {},
   "outputs": [],
   "source": [
    "def Upload(local_path, storage_sharefolder, storage_directoryname, overwrite=False):\n",
    "    file_service.create_share(storage_sharefolder)\n",
    "    if os.path.isdir(local_path):\n",
    "        file_service.create_directory(storage_sharefolder, storage_directoryname)\n",
    "        for root, dirs, files in os.walk(local_path):\n",
    "            for file in files:\n",
    "                try:\n",
    "                    uploadfile(os.path.join(root,file),  storage_sharefolder, storage_directoryname, file,overwrite)\n",
    "                except Exception as inst:\n",
    "                    print(\"error, \",inst)        \n",
    "                    continue\n",
    "    else:\n",
    "        filepath, file = os.path.split(local_path)\n",
    "        uploadfile(local_path,  storage_sharefolder, storage_directoryname, file,overwrite)"
   ]
  },
  {
   "cell_type": "code",
   "execution_count": 5,
   "metadata": {},
   "outputs": [],
   "source": [
    "def uploadfile(local_filepath,  storage_sharefolder, storage_directoryname, storage_filename, overwrite):\n",
    "    if( overwrite or not file_service.exists(share_name= storage_sharefolder, directory_name= storage_directoryname, file_name=storage_filename)):\n",
    "        print(\"uploading %s to %s/%s/%s\" %(local_filepath,storage_sharefolder,storage_directoryname,storage_filename))\n",
    "        file_service.create_file_from_path(share_name=storage_sharefolder,\n",
    "                                           directory_name=storage_directoryname, \n",
    "                                           file_name=storage_filename, \n",
    "                                           local_file_path=local_filepath)"
   ]
  },
  {
   "cell_type": "code",
   "execution_count": 6,
   "metadata": {},
   "outputs": [],
   "source": [
    "def downloadfile(local_filepath, storage_sharefolder, storage_directoryname, storage_filename, overwrite):\n",
    "    if( overwrite or not os.path.exists(local_filepath) ):\n",
    "        print(\"downloading %s/%s/%s to %s\" %(storage_sharefolder,storage_directoryname,storage_filename,local_filepath))\n",
    "        file_service.get_file_to_path(storage_sharefolder, storage_directoryname, file_name= storage_filename, file_path=local_filepath, open_mode='wb')\n"
   ]
  },
  {
   "cell_type": "code",
   "execution_count": 7,
   "metadata": {},
   "outputs": [],
   "source": [
    "def download(local_path, storage_sharefolder, storage_directoryname, storage_filename=None, overwrite=False):\n",
    "    \n",
    "    if( not os.path.exists(local_path) ):\n",
    "        os.makedirs(local_path)\n",
    "    \n",
    "    if storage_filename == None:\n",
    "        generator = file_service.list_directories_and_files(storage_sharefolder,storage_directoryname)\n",
    "        for file_or_dir in generator:\n",
    "            try:\n",
    "                file_path=os.path.join(local_path,file_or_dir.name)\n",
    "                downloadfile(file_path, storage_sharefolder,storage_directoryname,file_or_dir.name,overwrite)\n",
    "            except Exception as inst:\n",
    "                print(\"error, \",inst)        \n",
    "                continue\n",
    "    else:\n",
    "        file_path=os.path.join(local_path,storage_filename)\n",
    "        downloadfile(file_path, storage_sharefolder, storage_directoryname, storage_filename, overwrite)   \n",
    "        \n"
   ]
  },
  {
   "cell_type": "markdown",
   "metadata": {},
   "source": [
    "## how it works"
   ]
  },
  {
   "cell_type": "markdown",
   "metadata": {},
   "source": [
    "You can upload a file or folder to azure files"
   ]
  },
  {
   "cell_type": "code",
   "execution_count": 8,
   "metadata": {},
   "outputs": [
    {
     "name": "stdout",
     "output_type": "stream",
     "text": [
      "uploading ./logs/train1/dummytext1.txt to sharefoldername/train1/dummytext1.txt\n",
      "uploading ./logs/train1\\dummytext1.txt to sharefoldername/train1/dummytext1.txt\n",
      "uploading ./logs/train1\\dummytext2.txt to sharefoldername/train1/dummytext2.txt\n",
      "uploading ./logs/train1\\dummytext3.txt to sharefoldername/train1/dummytext3.txt\n"
     ]
    }
   ],
   "source": [
    "#Upload a single file\n",
    "Upload('./logs/train1/dummytext1.txt',sharefolder,'train1',overwrite=True)\n",
    "#upload a folder\n",
    "Upload('./logs/train1',sharefolder,'train1',overwrite=True)\n"
   ]
  },
  {
   "cell_type": "markdown",
   "metadata": {},
   "source": [
    "You can download a file or a folder from azure files"
   ]
  },
  {
   "cell_type": "code",
   "execution_count": 10,
   "metadata": {},
   "outputs": [
    {
     "name": "stdout",
     "output_type": "stream",
     "text": [
      "downloading sharefoldername/train1/dummytext2.txt to ./downloaded_logs/t1\\dummytext2.txt\n",
      "downloading sharefoldername/train1/dummytext1.txt to ./downloaded_logs/training1\\dummytext1.txt\n",
      "downloading sharefoldername/train1/dummytext2.txt to ./downloaded_logs/training1\\dummytext2.txt\n",
      "downloading sharefoldername/train1/dummytext3.txt to ./downloaded_logs/training1\\dummytext3.txt\n"
     ]
    }
   ],
   "source": [
    "download('./downloaded_logs/t1',sharefolder,'train1',storage_filename='dummytext2.txt',overwrite=True)\n",
    "#It download files/dirs under provided folder from azure storage/sharefolder to provided local path\n",
    "download('./downloaded_logs/training1',sharefolder,'train1',storage_filename=None,overwrite=True)"
   ]
  },
  {
   "cell_type": "code",
   "execution_count": null,
   "metadata": {},
   "outputs": [],
   "source": []
  }
 ],
 "metadata": {
  "kernelspec": {
   "display_name": "Python 3",
   "language": "python",
   "name": "python3"
  },
  "language_info": {
   "codemirror_mode": {
    "name": "ipython",
    "version": 3
   },
   "file_extension": ".py",
   "mimetype": "text/x-python",
   "name": "python",
   "nbconvert_exporter": "python",
   "pygments_lexer": "ipython3",
   "version": "3.5.4"
  }
 },
 "nbformat": 4,
 "nbformat_minor": 2
}
